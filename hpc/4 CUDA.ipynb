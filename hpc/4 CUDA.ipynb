{
 "cells": [
  {
   "cell_type": "code",
   "execution_count": 1,
   "metadata": {
    "colab": {
     "base_uri": "https://localhost:8080/"
    },
    "executionInfo": {
     "elapsed": 7,
     "status": "ok",
     "timestamp": 1685303500870,
     "user": {
      "displayName": "Andy",
      "userId": "00671770487918265329"
     },
     "user_tz": -330
    },
    "id": "BVsfr_Xdlzfr",
    "outputId": "a902d96a-e4ad-4d81-f93a-90bb8b5ae82f"
   },
   "outputs": [
    {
     "name": "stdout",
     "output_type": "stream",
     "text": [
      "nvcc: NVIDIA (R) Cuda compiler driver\n",
      "Copyright (c) 2005-2022 NVIDIA Corporation\n",
      "Built on Wed_Sep_21_10:33:58_PDT_2022\n",
      "Cuda compilation tools, release 11.8, V11.8.89\n",
      "Build cuda_11.8.r11.8/compiler.31833905_0\n"
     ]
    }
   ],
   "source": [
    "!nvcc --version "
   ]
  },
  {
   "cell_type": "code",
   "execution_count": 2,
   "metadata": {
    "colab": {
     "base_uri": "https://localhost:8080/"
    },
    "executionInfo": {
     "elapsed": 7537,
     "status": "ok",
     "timestamp": 1685303516255,
     "user": {
      "displayName": "Andy",
      "userId": "00671770487918265329"
     },
     "user_tz": -330
    },
    "id": "gRar_CE-l2wA",
    "outputId": "c358f1dd-8115-465f-b419-dc4dd802db8e"
   },
   "outputs": [
    {
     "name": "stdout",
     "output_type": "stream",
     "text": [
      "Looking in indexes: https://pypi.org/simple, https://us-python.pkg.dev/colab-wheels/public/simple/\n",
      "Collecting git+https://github.com/andreinechaev/nvcc4jupyter.git\n",
      "  Cloning https://github.com/andreinechaev/nvcc4jupyter.git to /tmp/pip-req-build-n8k618qh\n",
      "  Running command git clone --filter=blob:none --quiet https://github.com/andreinechaev/nvcc4jupyter.git /tmp/pip-req-build-n8k618qh\n",
      "  Resolved https://github.com/andreinechaev/nvcc4jupyter.git to commit aac710a35f52bb78ab34d2e52517237941399eff\n",
      "  Preparing metadata (setup.py) ... \u001b[?25l\u001b[?25hdone\n",
      "Building wheels for collected packages: NVCCPlugin\n",
      "  Building wheel for NVCCPlugin (setup.py) ... \u001b[?25l\u001b[?25hdone\n",
      "  Created wheel for NVCCPlugin: filename=NVCCPlugin-0.0.2-py3-none-any.whl size=4287 sha256=720ed8e816e2460c133cf49bdc252172da7d8391ede2698b8f76380168ad861d\n",
      "  Stored in directory: /tmp/pip-ephem-wheel-cache-4ihl4jul/wheels/a8/b9/18/23f8ef71ceb0f63297dd1903aedd067e6243a68ea756d6feea\n",
      "Successfully built NVCCPlugin\n",
      "Installing collected packages: NVCCPlugin\n",
      "Successfully installed NVCCPlugin-0.0.2\n"
     ]
    }
   ],
   "source": [
    "!pip install git+https://github.com/andreinechaev/nvcc4jupyter.git"
   ]
  },
  {
   "cell_type": "code",
   "execution_count": 3,
   "metadata": {
    "colab": {
     "base_uri": "https://localhost:8080/"
    },
    "executionInfo": {
     "elapsed": 4,
     "status": "ok",
     "timestamp": 1685303525050,
     "user": {
      "displayName": "Andy",
      "userId": "00671770487918265329"
     },
     "user_tz": -330
    },
    "id": "Eaqf2fMSrHIt",
    "outputId": "3fe99a27-b050-45c0-b56f-25b5c82e97ae"
   },
   "outputs": [
    {
     "name": "stdout",
     "output_type": "stream",
     "text": [
      "created output directory at /content/src\n",
      "Out bin /content/result.out\n"
     ]
    }
   ],
   "source": [
    "%load_ext nvcc_plugin "
   ]
  },
  {
   "cell_type": "code",
   "execution_count": 4,
   "metadata": {
    "colab": {
     "base_uri": "https://localhost:8080/"
    },
    "executionInfo": {
     "elapsed": 2588,
     "status": "ok",
     "timestamp": 1685303530738,
     "user": {
      "displayName": "Andy",
      "userId": "00671770487918265329"
     },
     "user_tz": -330
    },
    "id": "MJB2BQtWmCDU",
    "outputId": "35e91614-b44b-4640-b85a-0d0aad4c5794"
   },
   "outputs": [
    {
     "name": "stdout",
     "output_type": "stream",
     "text": [
      "0 3 6 9 12 15 18 21 24 27 \n",
      "\n"
     ]
    }
   ],
   "source": [
    "%%cu\n",
    "#include <iostream>  \n",
    "#include <cuda_runtime.h>\n",
    "\n",
    "__global__ void addVectors(int* A, int* B, int* C, int n)\n",
    "{\n",
    "\tint i = blockIdx.x * blockDim.x + threadIdx.x;\n",
    "\tif (i < n)\n",
    "\t{\n",
    "    \tC[i] = A[i] + B[i];\n",
    "\t}\n",
    "}\n",
    "\n",
    "int main()\n",
    "{\n",
    "\tint n = 1000000;  \n",
    "\tint* A, * B, * C;\n",
    "\tint size = n * sizeof(int);\n",
    "\n",
    "\t// Allocate memory on the host  \n",
    "\tcudaMallocHost(&A, size);  \n",
    "\tcudaMallocHost(&B, size);  \n",
    "\tcudaMallocHost(&C, size);\n",
    "\n",
    "\t// Initialize the vectors\n",
    "\tfor (int i = 0; i < n; i++)\n",
    "\t{\n",
    "    \tA[i] = i;\n",
    "    \tB[i] = i * 2;\n",
    "\t}\n",
    "\t// Allocate memory on the device  \n",
    "\tint* dev_A, * dev_B, * dev_C;  \n",
    "\tcudaMalloc(&dev_A, size);  \n",
    "\tcudaMalloc(&dev_B, size);  \n",
    "\tcudaMalloc(&dev_C, size);\n",
    "\n",
    "\t// Copy data from host to device\n",
    "\tcudaMemcpy(dev_A, A, size, cudaMemcpyHostToDevice);  \n",
    "\tcudaMemcpy(dev_B, B, size, cudaMemcpyHostToDevice);\n",
    "\n",
    "\t// Launch the kernel  \n",
    "\tint blockSize = 256;\n",
    "\tint numBlocks = (n + blockSize - 1) / blockSize;\n",
    "addVectors<<<numBlocks, blockSize>>>(dev_A, dev_B, dev_C, n);\n",
    "\n",
    "// Synchronize to make sure the kernel has finished\n",
    "cudaDeviceSynchronize();\n",
    "\n",
    "// Copy data from device to host\n",
    "cudaMemcpy(C, dev_C, size, cudaMemcpyDeviceToHost);\n",
    "\n",
    "// Print the results\n",
    "for (int i = 0; i < 10; i++)\n",
    "{\n",
    "    std::cout << C[i] << \" \";\n",
    "}\n",
    "std::cout << std::endl;\n",
    "\n",
    "\t// Free memory  \n",
    "\tcudaFree(dev_A);  \n",
    "\tcudaFree(dev_B);  \n",
    "\tcudaFree(dev_C);  \n",
    "\tcudaFreeHost(A);  \n",
    "\tcudaFreeHost(B);  \n",
    "\tcudaFreeHost(C);\n",
    "\n",
    "\treturn 0;\n",
    "}\n",
    "\n"
   ]
  },
  {
   "cell_type": "code",
   "execution_count": null,
   "metadata": {
    "id": "JOmQtdJrmM6h"
   },
   "outputs": [],
   "source": []
  }
 ],
 "metadata": {
  "accelerator": "GPU",
  "colab": {
   "gpuType": "T4",
   "provenance": []
  },
  "gpuClass": "standard",
  "kernelspec": {
   "display_name": "Python 3 (ipykernel)",
   "language": "python",
   "name": "python3"
  },
  "language_info": {
   "codemirror_mode": {
    "name": "ipython",
    "version": 3
   },
   "file_extension": ".py",
   "mimetype": "text/x-python",
   "name": "python",
   "nbconvert_exporter": "python",
   "pygments_lexer": "ipython3",
   "version": "3.9.13"
  }
 },
 "nbformat": 4,
 "nbformat_minor": 1
}
